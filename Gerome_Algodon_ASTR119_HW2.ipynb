{
 "cells": [
  {
   "cell_type": "code",
   "execution_count": null,
   "metadata": {},
   "outputs": [],
   "source": [
    "import numpy as np                      # imports numpy package to use functions\n",
    "import matplotlib.pyplot as plt         # imports matplotlib.pyplot package to graph the functions\n",
    "# plots graphs inline with the notebook\n",
    "%matplotlib inline\n",
    "                                        \n",
    "x = np.linspace(0,2*np.pi,1000)         # creates an array from 0 to 2*pi with 1000 values\n",
    "\n",
    "y1 = 5.5*np.cos(2*x)+5.5                # create the 3 functions provided\n",
    "y2 = 0.02 * np.exp(x)                   \n",
    "y3 = 0.25 * x**2 + 0.1 * np.sin(10*x)   \n",
    "\n",
    "plt.xlim(0,2*np.pi)                     # makes x range (0,2*pi)\n",
    "plt.ylim(-1,10)                         # makes y range (-1,10)\n",
    "plt.ylabel('Measures of Awesomeness')   # create y label\n",
    "plt.xlabel('Time in ASTR / EART 119')   # create x label\n",
    "\n",
    "plt.plot(x,y1,label='Graph a).')        # graph each function, added labels to make it easier to distinguish graphs\n",
    "plt.plot(x,y2,label='Graph b).')        \n",
    "plt.plot(x,y3,label='Graph c).')        \n",
    "\n",
    "plt.legend()                            # plots legend based on labels of the graphs\n",
    "\n",
    "plt.show()                              # display plot"
   ]
  },
  {
   "cell_type": "code",
   "execution_count": null,
   "metadata": {},
   "outputs": [],
   "source": []
  }
 ],
 "metadata": {
  "kernelspec": {
   "display_name": "Python 3",
   "language": "python",
   "name": "python3"
  },
  "language_info": {
   "codemirror_mode": {
    "name": "ipython",
    "version": 3
   },
   "file_extension": ".py",
   "mimetype": "text/x-python",
   "name": "python",
   "nbconvert_exporter": "python",
   "pygments_lexer": "ipython3",
   "version": "3.6.5"
  }
 },
 "nbformat": 4,
 "nbformat_minor": 2
}
